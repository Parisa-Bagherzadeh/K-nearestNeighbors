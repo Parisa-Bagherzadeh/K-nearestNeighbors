{
 "cells": [
  {
   "cell_type": "code",
   "execution_count": 1,
   "id": "efd5bfb9-472e-4fca-a1e9-a1d5b468f199",
   "metadata": {},
   "outputs": [],
   "source": [
    "import numpy as np\n",
    "import pandas as pd\n",
    "import matplotlib.pyplot as plt"
   ]
  },
  {
   "cell_type": "code",
   "execution_count": 2,
   "id": "0c2418c3-7a80-4046-8d5c-57cb69e500a2",
   "metadata": {},
   "outputs": [
    {
     "data": {
      "text/html": [
       "<div>\n",
       "<style scoped>\n",
       "    .dataframe tbody tr th:only-of-type {\n",
       "        vertical-align: middle;\n",
       "    }\n",
       "\n",
       "    .dataframe tbody tr th {\n",
       "        vertical-align: top;\n",
       "    }\n",
       "\n",
       "    .dataframe thead th {\n",
       "        text-align: right;\n",
       "    }\n",
       "</style>\n",
       "<table border=\"1\" class=\"dataframe\">\n",
       "  <thead>\n",
       "    <tr style=\"text-align: right;\">\n",
       "      <th></th>\n",
       "      <th>X</th>\n",
       "      <th>Y</th>\n",
       "    </tr>\n",
       "  </thead>\n",
       "  <tbody>\n",
       "    <tr>\n",
       "      <th>0</th>\n",
       "      <td>0.655210</td>\n",
       "      <td>-5.1815</td>\n",
       "    </tr>\n",
       "    <tr>\n",
       "      <th>1</th>\n",
       "      <td>0.752910</td>\n",
       "      <td>-4.6796</td>\n",
       "    </tr>\n",
       "    <tr>\n",
       "      <th>2</th>\n",
       "      <td>0.810860</td>\n",
       "      <td>-3.6935</td>\n",
       "    </tr>\n",
       "    <tr>\n",
       "      <th>3</th>\n",
       "      <td>0.048427</td>\n",
       "      <td>-1.2416</td>\n",
       "    </tr>\n",
       "    <tr>\n",
       "      <th>4</th>\n",
       "      <td>0.414710</td>\n",
       "      <td>-2.1358</td>\n",
       "    </tr>\n",
       "  </tbody>\n",
       "</table>\n",
       "</div>"
      ],
      "text/plain": [
       "          X       Y\n",
       "0  0.655210 -5.1815\n",
       "1  0.752910 -4.6796\n",
       "2  0.810860 -3.6935\n",
       "3  0.048427 -1.2416\n",
       "4  0.414710 -2.1358"
      ]
     },
     "execution_count": 2,
     "metadata": {},
     "output_type": "execute_result"
    }
   ],
   "source": [
    "data=pd.read_csv('regressionOutliers.csv')\n",
    "data.head()"
   ]
  },
  {
   "cell_type": "code",
   "execution_count": 3,
   "id": "e8eb39af-05a6-4578-b73f-5ea8011322ab",
   "metadata": {},
   "outputs": [],
   "source": [
    "X=data['X']\n",
    "Y=data['Y']"
   ]
  },
  {
   "cell_type": "code",
   "execution_count": 4,
   "id": "32f86d55-4256-4a25-843b-da8946e6d8c0",
   "metadata": {},
   "outputs": [],
   "source": [
    "X=np.array(X)\n",
    "Y=np.array(Y)"
   ]
  },
  {
   "cell_type": "code",
   "execution_count": 5,
   "id": "c77f0568-2b69-488d-8ad4-6f80b99a4ff1",
   "metadata": {},
   "outputs": [
    {
     "data": {
      "text/plain": [
       "Text(0, 0.5, 'Y')"
      ]
     },
     "execution_count": 5,
     "metadata": {},
     "output_type": "execute_result"
    },
    {
     "data": {
      "image/png": "[encoded data removed]",
      "text/plain": [
       "<Figure size 432x288 with 1 Axes>"
      ]
     },
     "metadata": {
      "needs_background": "light"
     },
     "output_type": "display_data"
    }
   ],
   "source": [
    "plt.scatter(X,Y)\n",
    "plt.xlabel('X')\n",
    "plt.ylabel('Y')"
   ]
  },
  {
   "cell_type": "code",
   "execution_count": 58,
   "id": "09967367-a137-4b54-a061-39f65b69b8ab",
   "metadata": {},
   "outputs": [],
   "source": [
    "\n",
    "#Banana_width=4\n",
    "#Banana_length=8\n",
    "#Apple_width=6\n",
    "#Apple_length=6\n",
    "\n",
    "\n",
    "N=50\n",
    "std=1.5\n",
    "\n",
    "bananas_width=np.random.normal(4,std,N)\n",
    "bananas_length=np.random.normal(8,std,N)\n",
    "\n",
    "apples_width=np.random.normal(6,std,N)\n",
    "apples_length=np.random.normal(6,std,N)\n",
    "\n",
    "width=np.concatenate((bananas_width,apples_width))\n",
    "length=np.concatenate((bananas_length,apples_length))\n",
    "#print(width.shape)\n",
    "#print(length.shape)\n",
    "\n",
    "X=np.array([width,length]).T\n",
    "#print(X.shape)\n",
    "#X after transpose: X=[200 rows of width,200 rows of length]\n",
    "#first 100 rows are bananas\n",
    "#second 100 rows are apples\n",
    "#banana label is zero\n",
    "#apple label is one\n",
    "\n",
    "\n",
    "bananas_label=np.zeros(N, dtype='int')\n",
    "apples_label=np.ones(N, dtype='int')\n",
    "\n",
    "Y=np.concatenate((bananas_label,apples_label))"
   ]
  },
  {
   "cell_type": "code",
   "execution_count": 59,
   "id": "a12b38c4-8a42-4e57-8c52-5e560fee16cb",
   "metadata": {},
   "outputs": [
    {
     "data": {
      "text/plain": [
       "Text(0, 0.5, 'Length')"
      ]
     },
     "execution_count": 59,
     "metadata": {},
     "output_type": "execute_result"
    },
    {
     "data": {
      "image/png": "[encoded data removed]",
      "text/plain": [
       "<Figure size 432x288 with 1 Axes>"
      ]
     },
     "metadata": {
      "needs_background": "light"
     },
     "output_type": "display_data"
    }
   ],
   "source": [
    "#bananas\n",
    "plt.scatter(X[0:N,0],X[0:N,1],c='yellow')\n",
    "\n",
    "#apples\n",
    "plt.scatter(X[N:,0],X[N:,1],c='red')\n",
    "\n",
    "\n",
    "plt.xlabel('Width')\n",
    "plt.ylabel('Length')\n"
   ]
  },
  {
   "cell_type": "code",
   "execution_count": 60,
   "id": "98bb4163-eccf-4afd-b8cb-53eb1841cdd4",
   "metadata": {},
   "outputs": [],
   "source": [
    "#test_data\n",
    "\n",
    "N_test=50\n",
    "std=1.5\n",
    "\n",
    "banana_width_test=np.random.normal(4,std,N_test)\n",
    "banana_length_test=np.random.normal(8,std,N_test)\n",
    "apple_width_test=np.random.normal(6,std,N_test)\n",
    "apple_length_test=np.random.normal(6,std,N_test)\n",
    "\n",
    "width_test=np.concatenate((banana_width_test,apple_width_test))\n",
    "length_test=np.concatenate((banana_length_test,apple_length_test))\n",
    "x_test=np.array([width_test,length_test]).T\n",
    "#print(type(x_test))\n",
    "#print(x_test.shape)\n",
    "#print(x_test)\n",
    "banana_label_test=np.zeros(N_test, dtype='int')\n",
    "apple_label_test=np.ones(N_test,dtype='int')\n",
    "\n",
    "y_test=np.concatenate((banana_label_test,apple_label_test))"
   ]
  },
  {
   "cell_type": "code",
   "execution_count": 61,
   "id": "20f1c573-193e-4592-b38a-e7ba50bf3025",
   "metadata": {},
   "outputs": [],
   "source": [
    "class KnearestNeighbors:\n",
    "   \n",
    "    def __init__(self,k):\n",
    "        self.k=k\n",
    "        \n",
    "    #train    \n",
    "    def fit(self,X_train,y_train):\n",
    "        \n",
    "        self.X_train=X_train\n",
    "        self.y_train=y_train\n",
    "        \n",
    "        #to know the count of classes\n",
    "        self.number_of_classes=len(np.unique(y_train))\n",
    "        \n",
    "    #test    \n",
    "    \n",
    "    def nearNeighbors(self,x_test):\n",
    "        \n",
    "        #for i in range(x_test):\n",
    "        distance=np.sqrt(np.sum((x_test-self.X_train)**2,axis=1))\n",
    "       \n",
    "       \n",
    "        #print(\"distance.shape=\",distance.shape)\n",
    "       \n",
    "        #distance=np.sqrt(np.sum((x_test-self.X_train)**2,axis=1))\n",
    "        near_neighbors=np.argsort(distance)[0:self.k]\n",
    "        #print(distance)\n",
    "        \n",
    "        return near_neighbors\n",
    "        \n",
    "    def predict(self,x_test):\n",
    "        \n",
    "        near_neighbors=self.nearNeighbors(x_test)\n",
    "        \n",
    "        #print(near_neighbors)#print the index of the nearest friuts \n",
    "        #print(self.y_train[near_neighbors])#print the lables of the nearest fruits\n",
    "        #print(np.bincount(self.y_train[near_neighbors]))\n",
    "        #print(np.argmax(np.bincount(self.y_train[near_neighbors])))#print the index of nearest\n",
    "        y=np.argmax(np.bincount(self.y_train[near_neighbors]))\n",
    "        #0=banana\n",
    "        #1=apple\n",
    "        return y\n",
    "    \n",
    "    def evaluate(self,y_pred,i):\n",
    "        if y_pred==y_test[i]:\n",
    "            return 1\n",
    "        else:\n",
    "            return 0\n",
    "        \n",
    "            \n",
    "        "
   ]
  },
  {
   "cell_type": "code",
   "execution_count": 62,
   "id": "eea9e715-364d-43e0-9dbd-743e66ce5745",
   "metadata": {},
   "outputs": [
    {
     "name": "stdout",
     "output_type": "stream",
     "text": [
      "[ 3.29303743 10.1321015 ] ,Predicted fruit is  banana\n",
      "[3.55862896 8.28001283] ,Predicted fruit is  banana\n",
      "[5.75252266 7.68507066] ,Predicted fruit is  appale\n",
      "[4.60837425 8.04679072] ,Predicted fruit is  banana\n",
      "[4.26234489 8.38549862] ,Predicted fruit is  banana\n",
      "[1.97629518 9.20694256] ,Predicted fruit is  banana\n",
      "[6.96526719 8.62682913] ,Predicted fruit is  appale\n",
      "[2.95199355 8.35450546] ,Predicted fruit is  banana\n",
      "[4.89127502 6.60704253] ,Predicted fruit is  banana\n",
      "[4.44723265 5.95268594] ,Predicted fruit is  appale\n",
      "[2.11511197 8.47578314] ,Predicted fruit is  banana\n",
      "[3.57705426 8.57462488] ,Predicted fruit is  banana\n",
      "[4.36690213 8.23012055] ,Predicted fruit is  banana\n",
      "[ 4.95862165 11.38452781] ,Predicted fruit is  banana\n",
      "[2.28811487 8.01934993] ,Predicted fruit is  banana\n",
      "[6.64565443 6.40531044] ,Predicted fruit is  appale\n",
      "[5.50614022 7.95817511] ,Predicted fruit is  appale\n",
      "[5.13051022 9.25888117] ,Predicted fruit is  banana\n",
      "[2.4542384  5.72183435] ,Predicted fruit is  banana\n",
      "[5.83160476 8.60729118] ,Predicted fruit is  appale\n",
      "[3.9367349  7.62328116] ,Predicted fruit is  banana\n",
      "[1.60764564 4.37473909] ,Predicted fruit is  appale\n",
      "[6.79553529 7.97092748] ,Predicted fruit is  appale\n",
      "[2.18180887 8.54653061] ,Predicted fruit is  banana\n",
      "[3.11517487 5.65294327] ,Predicted fruit is  appale\n",
      "[4.48184816 3.08760768] ,Predicted fruit is  appale\n",
      "[4.10467619 8.85248297] ,Predicted fruit is  banana\n",
      "[2.51069238 4.08378059] ,Predicted fruit is  appale\n",
      "[4.75213252 8.70665086] ,Predicted fruit is  banana\n",
      "[5.47611078 9.0238722 ] ,Predicted fruit is  banana\n",
      "[4.74610307 7.49044408] ,Predicted fruit is  banana\n",
      "[4.32140974 8.91937694] ,Predicted fruit is  banana\n",
      "[4.56579132 5.71980887] ,Predicted fruit is  appale\n",
      "[1.44658804 8.77212783] ,Predicted fruit is  banana\n",
      "[5.95981148 7.9318612 ] ,Predicted fruit is  appale\n",
      "[4.39655402 6.89648006] ,Predicted fruit is  appale\n",
      "[3.2705256 6.4099174] ,Predicted fruit is  banana\n",
      "[3.00097071 7.18907006] ,Predicted fruit is  banana\n",
      "[4.16975072 9.07717076] ,Predicted fruit is  banana\n",
      "[6.39365504 8.39036059] ,Predicted fruit is  appale\n",
      "[3.03617728 8.02511552] ,Predicted fruit is  banana\n",
      "[3.05346959 7.81213833] ,Predicted fruit is  banana\n",
      "[2.70936714 7.55435788] ,Predicted fruit is  banana\n",
      "[5.78861026 7.56170242] ,Predicted fruit is  appale\n",
      "[3.46782443 8.33507384] ,Predicted fruit is  banana\n",
      "[2.89291946 6.14831451] ,Predicted fruit is  banana\n",
      "[2.8333007  9.17653582] ,Predicted fruit is  banana\n",
      "[0.97780148 6.5590373 ] ,Predicted fruit is  banana\n",
      "[4.8304684 6.039496 ] ,Predicted fruit is  banana\n",
      "[2.77443814 8.55997975] ,Predicted fruit is  banana\n",
      "[ 4.05218602 10.14767295] ,Predicted fruit is  banana\n",
      "[5.17775617 5.68146244] ,Predicted fruit is  appale\n",
      "[6.23774611 4.26998325] ,Predicted fruit is  appale\n",
      "[7.14651861 3.31185813] ,Predicted fruit is  appale\n",
      "[5.58512153 5.32537033] ,Predicted fruit is  appale\n",
      "[5.60357964 4.79615863] ,Predicted fruit is  appale\n",
      "[8.96738261 5.95002463] ,Predicted fruit is  appale\n",
      "[4.66564403 5.16239203] ,Predicted fruit is  appale\n",
      "[7.10854069 8.41605547] ,Predicted fruit is  appale\n",
      "[6.28878967 6.32232869] ,Predicted fruit is  appale\n",
      "[8.34267547 8.11267186] ,Predicted fruit is  appale\n",
      "[6.51210129 5.21272387] ,Predicted fruit is  appale\n",
      "[5.43842471 6.75484005] ,Predicted fruit is  appale\n",
      "[6.36146595 8.219956  ] ,Predicted fruit is  appale\n",
      "[7.1360056  6.31225578] ,Predicted fruit is  appale\n",
      "[3.43978476 6.24982019] ,Predicted fruit is  appale\n",
      "[6.02821988 3.36897801] ,Predicted fruit is  appale\n",
      "[8.33680165 3.95507028] ,Predicted fruit is  appale\n",
      "[6.40293248 7.24734588] ,Predicted fruit is  appale\n",
      "[5.69169218 6.36829114] ,Predicted fruit is  appale\n",
      "[8.58996996 6.86328314] ,Predicted fruit is  appale\n",
      "[7.77870281 6.01562595] ,Predicted fruit is  appale\n",
      "[6.4564253  7.43669651] ,Predicted fruit is  appale\n",
      "[5.81154864 7.10334075] ,Predicted fruit is  appale\n",
      "[5.4238023  6.29672714] ,Predicted fruit is  appale\n",
      "[6.62625662 3.7816946 ] ,Predicted fruit is  appale\n",
      "[7.23971664 7.88313438] ,Predicted fruit is  appale\n",
      "[5.98846501 8.46001582] ,Predicted fruit is  appale\n",
      "[5.1355264  7.35843244] ,Predicted fruit is  appale\n",
      "[8.48079735 6.01268023] ,Predicted fruit is  appale\n",
      "[7.15160692 3.90460921] ,Predicted fruit is  appale\n",
      "[8.79225194 8.30613838] ,Predicted fruit is  appale\n",
      "[6.9312242  6.19810275] ,Predicted fruit is  appale\n",
      "[7.23639847 6.15565134] ,Predicted fruit is  appale\n",
      "[5.41732991 6.48103483] ,Predicted fruit is  appale\n",
      "[6.09591268 6.65802836] ,Predicted fruit is  appale\n",
      "[7.14451639 7.33563253] ,Predicted fruit is  appale\n",
      "[5.19576893 5.5760801 ] ,Predicted fruit is  appale\n",
      "[8.24047853 7.63889838] ,Predicted fruit is  appale\n",
      "[8.80149094 5.94294423] ,Predicted fruit is  appale\n",
      "[7.98844984 6.20869586] ,Predicted fruit is  appale\n",
      "[7.40597078 5.1016412 ] ,Predicted fruit is  appale\n",
      "[8.48711959 4.06403537] ,Predicted fruit is  appale\n",
      "[5.95430859 8.48598447] ,Predicted fruit is  appale\n",
      "[6.46973779 3.97441975] ,Predicted fruit is  appale\n",
      "[6.41396827 5.18187196] ,Predicted fruit is  appale\n",
      "[3.92838013 4.62777711] ,Predicted fruit is  appale\n",
      "[5.36916971 9.32049575] ,Predicted fruit is  banana\n",
      "[7.53754007 3.89943234] ,Predicted fruit is  appale\n",
      "[8.58949843 5.37883415] ,Predicted fruit is  appale\n",
      "Number of correct prediction 82\n",
      "The accuracy of the model is :  82.0\n"
     ]
    }
   ],
   "source": [
    "\n",
    "num=0 #Number of correct prediction\n",
    "knn=KnearestNeighbors(5)\n",
    "knn.fit(X,Y)\n",
    "#knn_test=KnearestNeighbors(5)\n",
    "#new_fruit=np.array([6,6.5])\n",
    "        \n",
    "fruits={0:'banana',\n",
    "       1:'appale'}\n",
    "\n",
    "\n",
    "for i in range(len(x_test)):\n",
    "   #for j in range(len(x_test[i])):\n",
    "        #rint(x_test[i])\n",
    "        #rint(x_test[i][j])\n",
    "        #nn.predict(x_test[i][j])\n",
    "        y_pred= knn.predict(x_test[i])\n",
    "        s=knn.evaluate(y_pred,i)\n",
    "        num=num+s\n",
    "        \n",
    "        \n",
    "        \n",
    "       \n",
    "        print(x_test[i],',Predicted fruit is ' , fruits[y_pred])\n",
    "        \n",
    "print(\"Number of correct prediction\",num)\n",
    "accuracy=(num/(N_test*2))*100\n",
    "print(\"The accuracy of the model is : \",accuracy)\n",
    "\n",
    "\n",
    "       \n",
    "    \n",
    "    \n",
    "\n",
    "    \n"
   ]
  },
  {
   "cell_type": "code",
   "execution_count": null,
   "id": "c8ef3fd6-ec99-49ec-884c-6148eab77730",
   "metadata": {},
   "outputs": [],
   "source": []
  }
 ],
 "metadata": {
  "kernelspec": {
   "display_name": "Python 3 (ipykernel)",
   "language": "python",
   "name": "python3"
  },
  "language_info": {
   "codemirror_mode": {
    "name": "ipython",
    "version": 3
   },
   "file_extension": ".py",
   "mimetype": "text/x-python",
   "name": "python",
   "nbconvert_exporter": "python",
   "pygments_lexer": "ipython3",
   "version": "3.7.9"
  }
 },
 "nbformat": 4,
 "nbformat_minor": 5
}
