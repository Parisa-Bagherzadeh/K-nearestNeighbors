{
 "cells": [
  {
   "cell_type": "code",
   "execution_count": 2,
   "id": "efd5bfb9-472e-4fca-a1e9-a1d5b468f199",
   "metadata": {},
   "outputs": [],
   "source": [
    "import numpy as np\n",
    "import pandas as pd\n",
    "import matplotlib.pyplot as plt"
   ]
  },
  {
   "cell_type": "code",
   "execution_count": 3,
   "id": "0c2418c3-7a80-4046-8d5c-57cb69e500a2",
   "metadata": {},
   "outputs": [
    {
     "data": {
      "text/html": [
       "<div>\n",
       "<style scoped>\n",
       "    .dataframe tbody tr th:only-of-type {\n",
       "        vertical-align: middle;\n",
       "    }\n",
       "\n",
       "    .dataframe tbody tr th {\n",
       "        vertical-align: top;\n",
       "    }\n",
       "\n",
       "    .dataframe thead th {\n",
       "        text-align: right;\n",
       "    }\n",
       "</style>\n",
       "<table border=\"1\" class=\"dataframe\">\n",
       "  <thead>\n",
       "    <tr style=\"text-align: right;\">\n",
       "      <th></th>\n",
       "      <th>X</th>\n",
       "      <th>Y</th>\n",
       "    </tr>\n",
       "  </thead>\n",
       "  <tbody>\n",
       "    <tr>\n",
       "      <th>0</th>\n",
       "      <td>0.655210</td>\n",
       "      <td>-5.1815</td>\n",
       "    </tr>\n",
       "    <tr>\n",
       "      <th>1</th>\n",
       "      <td>0.752910</td>\n",
       "      <td>-4.6796</td>\n",
       "    </tr>\n",
       "    <tr>\n",
       "      <th>2</th>\n",
       "      <td>0.810860</td>\n",
       "      <td>-3.6935</td>\n",
       "    </tr>\n",
       "    <tr>\n",
       "      <th>3</th>\n",
       "      <td>0.048427</td>\n",
       "      <td>-1.2416</td>\n",
       "    </tr>\n",
       "    <tr>\n",
       "      <th>4</th>\n",
       "      <td>0.414710</td>\n",
       "      <td>-2.1358</td>\n",
       "    </tr>\n",
       "  </tbody>\n",
       "</table>\n",
       "</div>"
      ],
      "text/plain": [
       "          X       Y\n",
       "0  0.655210 -5.1815\n",
       "1  0.752910 -4.6796\n",
       "2  0.810860 -3.6935\n",
       "3  0.048427 -1.2416\n",
       "4  0.414710 -2.1358"
      ]
     },
     "execution_count": 3,
     "metadata": {},
     "output_type": "execute_result"
    }
   ],
   "source": [
    "data=pd.read_csv('regressionOutliers.csv')\n",
    "data.head()"
   ]
  },
  {
   "cell_type": "code",
   "execution_count": 4,
   "id": "e8eb39af-05a6-4578-b73f-5ea8011322ab",
   "metadata": {},
   "outputs": [],
   "source": [
    "X=data['X']\n",
    "Y=data['Y']"
   ]
  },
  {
   "cell_type": "code",
   "execution_count": 5,
   "id": "32f86d55-4256-4a25-843b-da8946e6d8c0",
   "metadata": {},
   "outputs": [],
   "source": [
    "X=np.array(X)\n",
    "Y=np.array(Y)"
   ]
  },
  {
   "cell_type": "code",
   "execution_count": 6,
   "id": "c77f0568-2b69-488d-8ad4-6f80b99a4ff1",
   "metadata": {},
   "outputs": [
    {
     "data": {
      "text/plain": [
       "Text(0, 0.5, 'Y')"
      ]
     },
     "execution_count": 6,
     "metadata": {},
     "output_type": "execute_result"
    },
    {
     "data": {
      "image/png": "[encoded data removed]",
      "text/plain": [
       "<Figure size 432x288 with 1 Axes>"
      ]
     },
     "metadata": {
      "needs_background": "light"
     },
     "output_type": "display_data"
    }
   ],
   "source": [
    "plt.scatter(X,Y)\n",
    "plt.xlabel('X')\n",
    "plt.ylabel('Y')"
   ]
  },
  {
   "cell_type": "code",
   "execution_count": 7,
   "id": "09967367-a137-4b54-a061-39f65b69b8ab",
   "metadata": {},
   "outputs": [],
   "source": [
    "\n",
    "#Banana_width=4\n",
    "#Banana_length=8\n",
    "#Apple_width=6\n",
    "#Apple_length=6\n",
    "\n",
    "\n",
    "N=50\n",
    "std=1.5\n",
    "\n",
    "bananas_width=np.random.normal(4,std,N)\n",
    "bananas_length=np.random.normal(8,std,N)\n",
    "\n",
    "apples_width=np.random.normal(6,std,N)\n",
    "apples_length=np.random.normal(6,std,N)\n",
    "\n",
    "width=np.concatenate((bananas_width,apples_width))\n",
    "length=np.concatenate((bananas_length,apples_length))\n",
    "#print(width.shape)\n",
    "#print(length.shape)\n",
    "\n",
    "X=np.array([width,length]).T\n",
    "#print(X.shape)\n",
    "#X after transpose: X=[200 rows of width,200 rows of length]\n",
    "#first 100 rows are bananas\n",
    "#second 100 rows are apples\n",
    "#banana label is zero\n",
    "#apple label is one\n",
    "\n",
    "\n",
    "bananas_label=np.zeros(N, dtype='int')\n",
    "apples_label=np.ones(N, dtype='int')\n",
    "\n",
    "Y=np.concatenate((bananas_label,apples_label))"
   ]
  },
  {
   "cell_type": "code",
   "execution_count": 8,
   "id": "a12b38c4-8a42-4e57-8c52-5e560fee16cb",
   "metadata": {},
   "outputs": [
    {
     "data": {
      "text/plain": [
       "Text(0, 0.5, 'Length')"
      ]
     },
     "execution_count": 8,
     "metadata": {},
     "output_type": "execute_result"
    },
    {
     "data": {
      "image/png": "[encoded data removed]",
      "text/plain": [
       "<Figure size 432x288 with 1 Axes>"
      ]
     },
     "metadata": {
      "needs_background": "light"
     },
     "output_type": "display_data"
    }
   ],
   "source": [
    "#bananas\n",
    "plt.scatter(X[0:N,0],X[0:N,1],c='yellow')\n",
    "\n",
    "#apples\n",
    "plt.scatter(X[N:,0],X[N:,1],c='red')\n",
    "\n",
    "\n",
    "plt.xlabel('Width')\n",
    "plt.ylabel('Length')\n"
   ]
  },
  {
   "cell_type": "code",
   "execution_count": 9,
   "id": "98bb4163-eccf-4afd-b8cb-53eb1841cdd4",
   "metadata": {},
   "outputs": [],
   "source": [
    "#test_data\n",
    "\n",
    "N_test=50\n",
    "std=1.5\n",
    "\n",
    "banana_width_test=np.random.normal(4,std,N_test)\n",
    "banana_length_test=np.random.normal(8,std,N_test)\n",
    "apple_width_test=np.random.normal(6,std,N_test)\n",
    "apple_length_test=np.random.normal(6,std,N_test)\n",
    "\n",
    "width_test=np.concatenate((banana_width_test,apple_width_test))\n",
    "length_test=np.concatenate((banana_length_test,apple_length_test))\n",
    "x_test=np.array([width_test,length_test]).T\n",
    "#print(type(x_test))\n",
    "#print(x_test.shape)\n",
    "#print(x_test)\n",
    "banana_label_test=np.zeros(N_test, dtype='int')\n",
    "apple_label_test=np.ones(N_test,dtype='int')\n",
    "\n",
    "y_test=np.concatenate((banana_label_test,apple_label_test))"
   ]
  },
  {
   "cell_type": "code",
   "execution_count": 10,
   "id": "20f1c573-193e-4592-b38a-e7ba50bf3025",
   "metadata": {},
   "outputs": [],
   "source": [
    "class KnearestNeighbors:\n",
    "   \n",
    "    def __init__(self,k):\n",
    "        self.k=k\n",
    "        \n",
    "    #train    \n",
    "    def fit(self,X_train,y_train):\n",
    "        \n",
    "        self.X_train=X_train\n",
    "        self.y_train=y_train\n",
    "        \n",
    "        #to know the count of classes\n",
    "        self.number_of_classes=len(np.unique(y_train))\n",
    "        \n",
    "    #test    \n",
    "    \n",
    "    def nearNeighbors(self,x_test):\n",
    "        \n",
    "        #for i in range(x_test):\n",
    "        distance=np.sqrt(np.sum((x_test-self.X_train)**2,axis=1))\n",
    "       \n",
    "       \n",
    "        #print(\"distance.shape=\",distance.shape)\n",
    "       \n",
    "        #distance=np.sqrt(np.sum((x_test-self.X_train)**2,axis=1))\n",
    "        near_neighbors=np.argsort(distance)[0:self.k]\n",
    "        #print(distance)\n",
    "        \n",
    "        return near_neighbors\n",
    "        \n",
    "    def predict(self,x_test):\n",
    "        \n",
    "        near_neighbors=self.nearNeighbors(x_test)\n",
    "        \n",
    "        #print(near_neighbors)#print the index of the nearest friuts \n",
    "        #print(self.y_train[near_neighbors])#print the lables of the nearest fruits\n",
    "        #print(np.bincount(self.y_train[near_neighbors]))\n",
    "        #print(np.argmax(np.bincount(self.y_train[near_neighbors])))#print the index of nearest\n",
    "        y=np.argmax(np.bincount(self.y_train[near_neighbors]))\n",
    "        #0=banana\n",
    "        #1=apple\n",
    "        return y\n",
    "    \n",
    "    def evaluate(self,y_pred,i):\n",
    "        if y_pred==y_test[i]:\n",
    "            return 1\n",
    "        else:\n",
    "            return 0\n",
    "        \n",
    "            \n",
    "        "
   ]
  },
  {
   "cell_type": "code",
   "execution_count": 14,
   "id": "eea9e715-364d-43e0-9dbd-743e66ce5745",
   "metadata": {},
   "outputs": [
    {
     "name": "stdout",
     "output_type": "stream",
     "text": [
      "Test data  1 : [ 0.38384279 10.24751779] ,Predicted fruit is  banana\n",
      "Test data  2 : [ 4.76078037 10.85675333] ,Predicted fruit is  banana\n",
      "Test data  3 : [5.26282049 7.91495589] ,Predicted fruit is  appale\n",
      "Test data  4 : [3.41903518 8.92341937] ,Predicted fruit is  banana\n",
      "Test data  5 : [1.35877531 7.9517899 ] ,Predicted fruit is  banana\n",
      "Test data  6 : [1.18593229 9.09628142] ,Predicted fruit is  banana\n",
      "Test data  7 : [ 5.93395229 10.30465731] ,Predicted fruit is  banana\n",
      "Test data  8 : [2.18382168 8.02874761] ,Predicted fruit is  banana\n",
      "Test data  9 : [1.80507475 6.98460718] ,Predicted fruit is  banana\n",
      "Test data  10 : [2.19934685 9.47521302] ,Predicted fruit is  banana\n",
      "Test data  11 : [4.20415282 9.31544622] ,Predicted fruit is  banana\n",
      "Test data  12 : [4.68988173 9.5578383 ] ,Predicted fruit is  banana\n",
      "Test data  13 : [4.57460888 9.88097978] ,Predicted fruit is  banana\n",
      "Test data  14 : [4.14049554 6.90863604] ,Predicted fruit is  banana\n",
      "Test data  15 : [5.44781334 5.98817213] ,Predicted fruit is  appale\n",
      "Test data  16 : [ 5.55056108 10.11989378] ,Predicted fruit is  banana\n",
      "Test data  17 : [3.5851511  7.54577311] ,Predicted fruit is  banana\n",
      "Test data  18 : [1.72306118 8.74994201] ,Predicted fruit is  banana\n",
      "Test data  19 : [5.12750661 6.53485095] ,Predicted fruit is  appale\n",
      "Test data  20 : [4.85722204 6.48208953] ,Predicted fruit is  appale\n",
      "Test data  21 : [ 4.04260036 10.99328081] ,Predicted fruit is  banana\n",
      "Test data  22 : [ 5.59883639 11.04707147] ,Predicted fruit is  banana\n",
      "Test data  23 : [4.40274047 7.18770479] ,Predicted fruit is  banana\n",
      "Test data  24 : [3.95735337 9.15721997] ,Predicted fruit is  banana\n",
      "Test data  25 : [5.71223513 5.86722176] ,Predicted fruit is  appale\n",
      "Test data  26 : [6.29705897 9.97080184] ,Predicted fruit is  banana\n",
      "Test data  27 : [ 6.73709875 11.35915193] ,Predicted fruit is  banana\n",
      "Test data  28 : [ 4.114991   10.93751794] ,Predicted fruit is  banana\n",
      "Test data  29 : [3.644206   6.18888257] ,Predicted fruit is  banana\n",
      "Test data  30 : [5.99299633 7.51654968] ,Predicted fruit is  appale\n",
      "Test data  31 : [5.27299634 5.89079324] ,Predicted fruit is  appale\n",
      "Test data  32 : [4.98198263 9.7731998 ] ,Predicted fruit is  banana\n",
      "Test data  33 : [4.46508466 9.51034705] ,Predicted fruit is  banana\n",
      "Test data  34 : [5.5597269  9.24535381] ,Predicted fruit is  banana\n",
      "Test data  35 : [2.32073693 7.43456993] ,Predicted fruit is  banana\n",
      "Test data  36 : [3.71715171 7.33239294] ,Predicted fruit is  banana\n",
      "Test data  37 : [4.91282747 9.07737216] ,Predicted fruit is  banana\n",
      "Test data  38 : [1.68295483 8.55988791] ,Predicted fruit is  banana\n",
      "Test data  39 : [5.49672552 6.42696903] ,Predicted fruit is  appale\n",
      "Test data  40 : [5.00089498 6.47007416] ,Predicted fruit is  appale\n",
      "Test data  41 : [0.96632001 6.81634648] ,Predicted fruit is  banana\n",
      "Test data  42 : [4.3572779  6.54064093] ,Predicted fruit is  banana\n",
      "Test data  43 : [5.03362271 5.78413171] ,Predicted fruit is  appale\n",
      "Test data  44 : [2.79775984 6.31348188] ,Predicted fruit is  banana\n",
      "Test data  45 : [1.79181539 9.02585804] ,Predicted fruit is  banana\n",
      "Test data  46 : [3.62051691 8.39048581] ,Predicted fruit is  banana\n",
      "Test data  47 : [4.81301558 8.08975461] ,Predicted fruit is  banana\n",
      "Test data  48 : [1.43932742 7.19805262] ,Predicted fruit is  banana\n",
      "Test data  49 : [3.74345196 7.08322663] ,Predicted fruit is  banana\n",
      "Test data  50 : [3.72619933 6.41038527] ,Predicted fruit is  banana\n",
      "Test data  51 : [1.69519    8.04159186] ,Predicted fruit is  banana\n",
      "Test data  52 : [4.74743836 5.52021811] ,Predicted fruit is  appale\n",
      "Test data  53 : [7.72814801 4.64949039] ,Predicted fruit is  appale\n",
      "Test data  54 : [5.04121806 3.22372244] ,Predicted fruit is  appale\n",
      "Test data  55 : [5.14479115 8.11471969] ,Predicted fruit is  appale\n",
      "Test data  56 : [5.06714493 4.86276026] ,Predicted fruit is  appale\n",
      "Test data  57 : [5.48175812 5.41708342] ,Predicted fruit is  appale\n",
      "Test data  58 : [6.00553735 3.48761085] ,Predicted fruit is  appale\n",
      "Test data  59 : [3.26469216 2.86964169] ,Predicted fruit is  appale\n",
      "Test data  60 : [5.40175608 5.96813827] ,Predicted fruit is  appale\n",
      "Test data  61 : [9.38007768 9.39856703] ,Predicted fruit is  appale\n",
      "Test data  62 : [5.33570869 4.3196811 ] ,Predicted fruit is  appale\n",
      "Test data  63 : [8.12421448 6.47384311] ,Predicted fruit is  appale\n",
      "Test data  64 : [4.74788782 2.83417245] ,Predicted fruit is  appale\n",
      "Test data  65 : [4.98822288 5.9840341 ] ,Predicted fruit is  appale\n",
      "Test data  66 : [4.17863528 8.55902106] ,Predicted fruit is  banana\n",
      "Test data  67 : [7.11479381 7.80417974] ,Predicted fruit is  appale\n",
      "Test data  68 : [6.00382598 5.50920463] ,Predicted fruit is  appale\n",
      "Test data  69 : [5.02715584 4.64147365] ,Predicted fruit is  appale\n",
      "Test data  70 : [8.09116079 7.33381476] ,Predicted fruit is  appale\n",
      "Test data  71 : [8.56525991 6.08569561] ,Predicted fruit is  appale\n",
      "Test data  72 : [6.63609411 7.52983326] ,Predicted fruit is  appale\n",
      "Test data  73 : [4.62315411 5.65654638] ,Predicted fruit is  appale\n",
      "Test data  74 : [6.22275224 6.72164214] ,Predicted fruit is  appale\n",
      "Test data  75 : [7.66863251 6.91872832] ,Predicted fruit is  appale\n",
      "Test data  76 : [4.16544883 4.40664847] ,Predicted fruit is  appale\n",
      "Test data  77 : [3.49108893 3.29498258] ,Predicted fruit is  appale\n",
      "Test data  78 : [4.70915547 3.12920158] ,Predicted fruit is  appale\n",
      "Test data  79 : [5.27739167 6.5817257 ] ,Predicted fruit is  appale\n",
      "Test data  80 : [6.56780549 6.88648388] ,Predicted fruit is  appale\n",
      "Test data  81 : [6.06468308 5.24817075] ,Predicted fruit is  appale\n",
      "Test data  82 : [5.89105778 3.89457027] ,Predicted fruit is  appale\n",
      "Test data  83 : [6.39967357 5.54358601] ,Predicted fruit is  appale\n",
      "Test data  84 : [6.05381817 6.20816655] ,Predicted fruit is  appale\n",
      "Test data  85 : [6.93455784 6.0351441 ] ,Predicted fruit is  appale\n",
      "Test data  86 : [6.5511994  7.20253343] ,Predicted fruit is  appale\n",
      "Test data  87 : [4.68064414 8.42727283] ,Predicted fruit is  banana\n",
      "Test data  88 : [9.20145233 3.47533383] ,Predicted fruit is  appale\n",
      "Test data  89 : [6.49354252 5.90288263] ,Predicted fruit is  appale\n",
      "Test data  90 : [7.874511   7.73256378] ,Predicted fruit is  appale\n",
      "Test data  91 : [5.9787403  7.89269587] ,Predicted fruit is  appale\n",
      "Test data  92 : [6.64342685 6.87853599] ,Predicted fruit is  appale\n",
      "Test data  93 : [4.85226421 7.00614305] ,Predicted fruit is  appale\n",
      "Test data  94 : [5.28255512 4.29367646] ,Predicted fruit is  appale\n",
      "Test data  95 : [5.82716246 3.07633887] ,Predicted fruit is  appale\n",
      "Test data  96 : [6.07818206 5.300534  ] ,Predicted fruit is  appale\n",
      "Test data  97 : [1.4200088  3.47384425] ,Predicted fruit is  banana\n",
      "Test data  98 : [6.28323864 5.81423034] ,Predicted fruit is  appale\n",
      "Test data  99 : [6.34262324 6.35146681] ,Predicted fruit is  appale\n",
      "Test data  100 : [8.40162753 6.73528645] ,Predicted fruit is  appale\n",
      "\n",
      "\n",
      "Number of correct prediction 86\n",
      "The accuracy of the model is :  86.0\n"
     ]
    }
   ],
   "source": [
    "\n",
    "num=0 #Number of correct prediction\n",
    "knn=KnearestNeighbors(5)\n",
    "knn.fit(X,Y)\n",
    "#knn_test=KnearestNeighbors(5)\n",
    "#new_fruit=np.array([6,6.5])\n",
    "        \n",
    "fruits={0:'banana',\n",
    "       1:'appale'}\n",
    "\n",
    "\n",
    "for i in range(len(x_test)):\n",
    "   #for j in range(len(x_test[i])):\n",
    "        #rint(x_test[i])\n",
    "        #rint(x_test[i][j])\n",
    "        #nn.predict(x_test[i][j])\n",
    "        y_pred= knn.predict(x_test[i])\n",
    "        s=knn.evaluate(y_pred,i)\n",
    "        num=num+s\n",
    "        \n",
    "        \n",
    "        \n",
    "       \n",
    "        print(\"Test data \",i+1,\":\",x_test[i],',Predicted fruit is ' , fruits[y_pred])\n",
    "print(\"\\n\")        \n",
    "print(\"Number of correct prediction\",num)\n",
    "accuracy=(num/(N_test*2))*100\n",
    "print(\"The accuracy of the model is : \",accuracy)\n",
    "\n",
    "\n",
    "       \n",
    "    \n",
    "    \n",
    "\n",
    "    \n"
   ]
  },
  {
   "cell_type": "code",
   "execution_count": null,
   "id": "c8ef3fd6-ec99-49ec-884c-6148eab77730",
   "metadata": {},
   "outputs": [],
   "source": []
  }
 ],
 "metadata": {
  "kernelspec": {
   "display_name": "Python 3 (ipykernel)",
   "language": "python",
   "name": "python3"
  },
  "language_info": {
   "codemirror_mode": {
    "name": "ipython",
    "version": 3
   },
   "file_extension": ".py",
   "mimetype": "text/x-python",
   "name": "python",
   "nbconvert_exporter": "python",
   "pygments_lexer": "ipython3",
   "version": "3.7.9"
  }
 },
 "nbformat": 4,
 "nbformat_minor": 5
}
