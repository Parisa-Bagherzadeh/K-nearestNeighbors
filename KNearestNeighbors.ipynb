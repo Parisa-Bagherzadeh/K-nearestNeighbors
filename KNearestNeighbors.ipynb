{
 "cells": [
  {
   "cell_type": "code",
   "execution_count": 54,
   "id": "efd5bfb9-472e-4fca-a1e9-a1d5b468f199",
   "metadata": {},
   "outputs": [],
   "source": [
    "import numpy as np\n",
    "import pandas as pd\n",
    "import matplotlib.pyplot as plt\n",
    "from sklearn.metrics import accuracy_score"
   ]
  },
  {
   "cell_type": "code",
   "execution_count": 55,
   "id": "0c2418c3-7a80-4046-8d5c-57cb69e500a2",
   "metadata": {},
   "outputs": [
    {
     "data": {
      "text/html": [
       "<div>\n",
       "<style scoped>\n",
       "    .dataframe tbody tr th:only-of-type {\n",
       "        vertical-align: middle;\n",
       "    }\n",
       "\n",
       "    .dataframe tbody tr th {\n",
       "        vertical-align: top;\n",
       "    }\n",
       "\n",
       "    .dataframe thead th {\n",
       "        text-align: right;\n",
       "    }\n",
       "</style>\n",
       "<table border=\"1\" class=\"dataframe\">\n",
       "  <thead>\n",
       "    <tr style=\"text-align: right;\">\n",
       "      <th></th>\n",
       "      <th>X</th>\n",
       "      <th>Y</th>\n",
       "    </tr>\n",
       "  </thead>\n",
       "  <tbody>\n",
       "    <tr>\n",
       "      <th>0</th>\n",
       "      <td>0.655210</td>\n",
       "      <td>-5.1815</td>\n",
       "    </tr>\n",
       "    <tr>\n",
       "      <th>1</th>\n",
       "      <td>0.752910</td>\n",
       "      <td>-4.6796</td>\n",
       "    </tr>\n",
       "    <tr>\n",
       "      <th>2</th>\n",
       "      <td>0.810860</td>\n",
       "      <td>-3.6935</td>\n",
       "    </tr>\n",
       "    <tr>\n",
       "      <th>3</th>\n",
       "      <td>0.048427</td>\n",
       "      <td>-1.2416</td>\n",
       "    </tr>\n",
       "    <tr>\n",
       "      <th>4</th>\n",
       "      <td>0.414710</td>\n",
       "      <td>-2.1358</td>\n",
       "    </tr>\n",
       "  </tbody>\n",
       "</table>\n",
       "</div>"
      ],
      "text/plain": [
       "          X       Y\n",
       "0  0.655210 -5.1815\n",
       "1  0.752910 -4.6796\n",
       "2  0.810860 -3.6935\n",
       "3  0.048427 -1.2416\n",
       "4  0.414710 -2.1358"
      ]
     },
     "execution_count": 55,
     "metadata": {},
     "output_type": "execute_result"
    }
   ],
   "source": [
    "data=pd.read_csv('regressionOutliers.csv')\n",
    "data.head()"
   ]
  },
  {
   "cell_type": "code",
   "execution_count": 56,
   "id": "e8eb39af-05a6-4578-b73f-5ea8011322ab",
   "metadata": {},
   "outputs": [],
   "source": [
    "X=data['X']\n",
    "Y=data['Y']"
   ]
  },
  {
   "cell_type": "code",
   "execution_count": 57,
   "id": "32f86d55-4256-4a25-843b-da8946e6d8c0",
   "metadata": {},
   "outputs": [],
   "source": [
    "X=np.array(X)\n",
    "Y=np.array(Y)"
   ]
  },
  {
   "cell_type": "code",
   "execution_count": 58,
   "id": "c77f0568-2b69-488d-8ad4-6f80b99a4ff1",
   "metadata": {},
   "outputs": [
    {
     "data": {
      "text/plain": [
       "Text(0, 0.5, 'Y')"
      ]
     },
     "execution_count": 58,
     "metadata": {},
     "output_type": "execute_result"
    },
    {
     "data": {
      "image/png": "[encoded data removed]",
      "text/plain": [
       "<Figure size 432x288 with 1 Axes>"
      ]
     },
     "metadata": {
      "needs_background": "light"
     },
     "output_type": "display_data"
    }
   ],
   "source": [
    "plt.scatter(X,Y)\n",
    "plt.xlabel('X')\n",
    "plt.ylabel('Y')"
   ]
  },
  {
   "cell_type": "code",
   "execution_count": 59,
   "id": "09967367-a137-4b54-a061-39f65b69b8ab",
   "metadata": {},
   "outputs": [],
   "source": [
    "\n",
    "#Banana_width=4\n",
    "#Banana_length=8\n",
    "#Apple_width=6\n",
    "#Apple_length=6\n",
    "\n",
    "\n",
    "N=50\n",
    "std=1.5\n",
    "\n",
    "bananas_width=np.random.normal(4,std,N)\n",
    "bananas_length=np.random.normal(8,std,N)\n",
    "\n",
    "apples_width=np.random.normal(6,std,N)\n",
    "apples_length=np.random.normal(6,std,N)\n",
    "\n",
    "width=np.concatenate((bananas_width,apples_width))\n",
    "length=np.concatenate((bananas_length,apples_length))\n",
    "#print(width.shape)\n",
    "#print(length.shape)\n",
    "\n",
    "X=np.array([width,length]).T\n",
    "#print(X.shape)\n",
    "#X after transpose: X=[200 rows of width,200 rows of length]\n",
    "#first 100 rows are bananas\n",
    "#second 100 rows are apples\n",
    "#banana label is zero\n",
    "#apple label is one\n",
    "\n",
    "\n",
    "bananas_label=np.zeros(N, dtype='int')\n",
    "apples_label=np.ones(N, dtype='int')\n",
    "\n",
    "Y=np.concatenate((bananas_label,apples_label))"
   ]
  },
  {
   "cell_type": "code",
   "execution_count": 60,
   "id": "a12b38c4-8a42-4e57-8c52-5e560fee16cb",
   "metadata": {},
   "outputs": [
    {
     "data": {
      "text/plain": [
       "Text(0, 0.5, 'Length')"
      ]
     },
     "execution_count": 60,
     "metadata": {},
     "output_type": "execute_result"
    },
    {
     "data": {
      "image/png": "[encoded data removed]",
      "text/plain": [
       "<Figure size 432x288 with 1 Axes>"
      ]
     },
     "metadata": {
      "needs_background": "light"
     },
     "output_type": "display_data"
    }
   ],
   "source": [
    "#bananas\n",
    "plt.scatter(X[0:N,0],X[0:N,1],c='yellow')\n",
    "\n",
    "#apples\n",
    "plt.scatter(X[N:,0],X[N:,1],c='red')\n",
    "\n",
    "\n",
    "plt.xlabel('Width')\n",
    "plt.ylabel('Length')\n"
   ]
  },
  {
   "cell_type": "code",
   "execution_count": 48,
   "id": "98bb4163-eccf-4afd-b8cb-53eb1841cdd4",
   "metadata": {},
   "outputs": [],
   "source": [
    "#test_data\n",
    "\n",
    "N_test=50\n",
    "std=1.5\n",
    "\n",
    "banana_width_test=np.random.normal(4,std,N_test)\n",
    "banana_length_test=np.random.normal(8,std,N_test)\n",
    "apple_width_test=np.random.normal(6,std,N_test)\n",
    "apple_length_test=np.random.normal(6,std,N_test)\n",
    "\n",
    "width_test=np.concatenate((banana_width_test,apple_width_test))\n",
    "length_test=np.concatenate((banana_length_test,apple_length_test))\n",
    "x_test=np.array([width_test,length_test]).T\n",
    "#print(type(x_test))\n",
    "#print(x_test.shape)\n",
    "#print(x_test)\n",
    "banana_label_test=np.zeros(N_test, dtype='int')\n",
    "apple_label_test=np.ones(N_test,dtype='int')\n",
    "\n",
    "y_test=np.concatenate((banana_label_test,apple_label_test))"
   ]
  },
  {
   "cell_type": "code",
   "execution_count": 61,
   "id": "20f1c573-193e-4592-b38a-e7ba50bf3025",
   "metadata": {},
   "outputs": [],
   "source": [
    "class KnearestNeighbors:\n",
    "   \n",
    "    def __init__(self,k):\n",
    "        self.k=k\n",
    "        \n",
    "    #train    \n",
    "    def fit(self,X_train,y_train):\n",
    "        \n",
    "        self.X_train=X_train\n",
    "        self.y_train=y_train\n",
    "        \n",
    "        #to know the count of classes\n",
    "        self.number_of_classes=len(np.unique(y_train))\n",
    "        \n",
    "    #test    \n",
    "    \n",
    "    def nearNeighbors(self,x_test):\n",
    "        \n",
    "        #for i in range(x_test):\n",
    "        distance=np.sqrt(np.sum((x_test-self.X_train)**2,axis=1))\n",
    "       \n",
    "       \n",
    "        #print(\"distance.shape=\",distance.shape)\n",
    "       \n",
    "        #distance=np.sqrt(np.sum((x_test-self.X_train)**2,axis=1))\n",
    "        near_neighbors=np.argsort(distance)[0:self.k]\n",
    "        #print(distance)\n",
    "        \n",
    "        return near_neighbors\n",
    "        \n",
    "    def predict(self,x_test):\n",
    "        \n",
    "        near_neighbors=self.nearNeighbors(x_test)\n",
    "        \n",
    "        #print(near_neighbors)#print the index of the nearest friuts \n",
    "        #print(self.y_train[near_neighbors])#print the lables of the nearest fruits\n",
    "        #print(np.bincount(self.y_train[near_neighbors]))\n",
    "        #print(np.argmax(np.bincount(self.y_train[near_neighbors])))#print the index of nearest\n",
    "        y=np.argmax(np.bincount(self.y_train[near_neighbors]))\n",
    "        #0=banana\n",
    "        #1=apple\n",
    "        return y\n",
    "    \n",
    "    def evaluate(self,y_pred,i):\n",
    "        if y_pred==y_test[i]:\n",
    "            return 1\n",
    "        else:\n",
    "            return 0\n",
    "        \n",
    "            \n",
    "        "
   ]
  },
  {
   "cell_type": "code",
   "execution_count": 63,
   "id": "eea9e715-364d-43e0-9dbd-743e66ce5745",
   "metadata": {},
   "outputs": [
    {
     "name": "stdout",
     "output_type": "stream",
     "text": [
      "Test data  1 : [1.85567636 8.21012898] ,Predicted fruit is  banana\n",
      "Test data  2 : [3.22355262 9.74414847] ,Predicted fruit is  banana\n",
      "Test data  3 : [4.91541068 9.65993565] ,Predicted fruit is  banana\n",
      "Test data  4 : [4.35941557 6.40972126] ,Predicted fruit is  banana\n",
      "Test data  5 : [5.2725835  9.48036085] ,Predicted fruit is  banana\n",
      "Test data  6 : [2.52735694 9.33530092] ,Predicted fruit is  banana\n",
      "Test data  7 : [3.81901005 6.65273   ] ,Predicted fruit is  banana\n",
      "Test data  8 : [3.51038316 8.27240538] ,Predicted fruit is  banana\n",
      "Test data  9 : [3.55527564 6.3441412 ] ,Predicted fruit is  banana\n",
      "Test data  10 : [2.00273665 7.67133026] ,Predicted fruit is  banana\n",
      "Test data  11 : [5.44068995 6.22760346] ,Predicted fruit is  appale\n",
      "Test data  12 : [4.06617702 9.58776241] ,Predicted fruit is  banana\n",
      "Test data  13 : [6.28913017 9.05110475] ,Predicted fruit is  banana\n",
      "Test data  14 : [4.52280157 5.74400701] ,Predicted fruit is  banana\n",
      "Test data  15 : [1.64772975 7.65873778] ,Predicted fruit is  banana\n",
      "Test data  16 : [4.73940015 6.18686134] ,Predicted fruit is  banana\n",
      "Test data  17 : [7.35481199 6.90989831] ,Predicted fruit is  appale\n",
      "Test data  18 : [1.00910299 8.08755751] ,Predicted fruit is  banana\n",
      "Test data  19 : [4.78236506 5.04558524] ,Predicted fruit is  banana\n",
      "Test data  20 : [3.35750092 5.6078623 ] ,Predicted fruit is  banana\n",
      "Test data  21 : [5.64051523 9.62166467] ,Predicted fruit is  banana\n",
      "Test data  22 : [6.95044524 6.50729161] ,Predicted fruit is  appale\n",
      "Test data  23 : [3.20521986 8.29880495] ,Predicted fruit is  banana\n",
      "Test data  24 : [3.3251256  9.06551336] ,Predicted fruit is  banana\n",
      "Test data  25 : [3.0697581  6.80215735] ,Predicted fruit is  banana\n",
      "Test data  26 : [3.27921775 7.31657732] ,Predicted fruit is  banana\n",
      "Test data  27 : [1.79832258 8.79112144] ,Predicted fruit is  banana\n",
      "Test data  28 : [3.73779136 8.10862841] ,Predicted fruit is  banana\n",
      "Test data  29 : [3.67765851 9.73700569] ,Predicted fruit is  banana\n",
      "Test data  30 : [1.02888467 5.03973933] ,Predicted fruit is  banana\n",
      "Test data  31 : [5.24245073 9.09055568] ,Predicted fruit is  banana\n",
      "Test data  32 : [3.18432696 6.89142531] ,Predicted fruit is  banana\n",
      "Test data  33 : [4.7774559  6.40796524] ,Predicted fruit is  appale\n",
      "Test data  34 : [3.65750448 8.39880731] ,Predicted fruit is  banana\n",
      "Test data  35 : [5.28259023 9.10061415] ,Predicted fruit is  banana\n",
      "Test data  36 : [2.80751089 7.87683592] ,Predicted fruit is  banana\n",
      "Test data  37 : [4.3949667  8.01650635] ,Predicted fruit is  banana\n",
      "Test data  38 : [3.71718442 7.4598595 ] ,Predicted fruit is  banana\n",
      "Test data  39 : [0.97539185 7.67828421] ,Predicted fruit is  banana\n",
      "Test data  40 : [4.22711657 8.43991633] ,Predicted fruit is  banana\n",
      "Test data  41 : [4.02746797 5.41588358] ,Predicted fruit is  banana\n",
      "Test data  42 : [ 4.85307279 10.07471131] ,Predicted fruit is  banana\n",
      "Test data  43 : [3.20350821 3.98241951] ,Predicted fruit is  banana\n",
      "Test data  44 : [4.67336469 9.4996081 ] ,Predicted fruit is  banana\n",
      "Test data  45 : [2.23339815 8.16126201] ,Predicted fruit is  banana\n",
      "Test data  46 : [6.48174144 6.2726419 ] ,Predicted fruit is  appale\n",
      "Test data  47 : [0.94144388 8.08401422] ,Predicted fruit is  banana\n",
      "Test data  48 : [ 1.1894664  10.50810903] ,Predicted fruit is  banana\n",
      "Test data  49 : [4.03315822 8.70894064] ,Predicted fruit is  banana\n",
      "Test data  50 : [2.96345324 8.22699176] ,Predicted fruit is  banana\n",
      "Test data  51 : [3.84637557 5.75496566] ,Predicted fruit is  banana\n",
      "Test data  52 : [6.49197643 7.26060806] ,Predicted fruit is  appale\n",
      "Test data  53 : [5.22114275 4.29283196] ,Predicted fruit is  appale\n",
      "Test data  54 : [7.15653604 6.81364894] ,Predicted fruit is  appale\n",
      "Test data  55 : [6.63474861 3.76798376] ,Predicted fruit is  appale\n",
      "Test data  56 : [8.2484251  4.88868859] ,Predicted fruit is  appale\n",
      "Test data  57 : [4.61257972 5.06480503] ,Predicted fruit is  appale\n",
      "Test data  58 : [6.35478012 4.24646313] ,Predicted fruit is  appale\n",
      "Test data  59 : [6.08394912 7.47301126] ,Predicted fruit is  appale\n",
      "Test data  60 : [7.64287355 6.19007643] ,Predicted fruit is  appale\n",
      "Test data  61 : [4.61293627 6.92403625] ,Predicted fruit is  appale\n",
      "Test data  62 : [7.84873653 7.72197414] ,Predicted fruit is  appale\n",
      "Test data  63 : [8.03788903 9.16070281] ,Predicted fruit is  appale\n",
      "Test data  64 : [5.22854891 6.90576914] ,Predicted fruit is  appale\n",
      "Test data  65 : [3.24886934 8.39308995] ,Predicted fruit is  banana\n",
      "Test data  66 : [3.07035976 4.89099569] ,Predicted fruit is  banana\n",
      "Test data  67 : [6.72366937 5.50527921] ,Predicted fruit is  appale\n",
      "Test data  68 : [7.32859588 6.27775971] ,Predicted fruit is  appale\n",
      "Test data  69 : [5.59892249 5.33596955] ,Predicted fruit is  appale\n",
      "Test data  70 : [6.50666428 6.19208101] ,Predicted fruit is  appale\n",
      "Test data  71 : [10.46417767  5.45825519] ,Predicted fruit is  appale\n",
      "Test data  72 : [6.92437865 7.36269853] ,Predicted fruit is  appale\n",
      "Test data  73 : [6.30030247 5.12988804] ,Predicted fruit is  appale\n",
      "Test data  74 : [5.96612009 7.28596768] ,Predicted fruit is  appale\n",
      "Test data  75 : [4.99906313 5.70344168] ,Predicted fruit is  appale\n",
      "Test data  76 : [1.35635502 7.89272795] ,Predicted fruit is  banana\n",
      "Test data  77 : [7.14637766 5.72098116] ,Predicted fruit is  appale\n",
      "Test data  78 : [7.65578201 7.09953708] ,Predicted fruit is  appale\n",
      "Test data  79 : [6.41454982 4.95928372] ,Predicted fruit is  appale\n",
      "Test data  80 : [2.29495274 5.88311278] ,Predicted fruit is  banana\n",
      "Test data  81 : [3.85945001 6.71609713] ,Predicted fruit is  banana\n",
      "Test data  82 : [7.42803134 6.87678081] ,Predicted fruit is  appale\n",
      "Test data  83 : [2.76548985 7.09799371] ,Predicted fruit is  banana\n",
      "Test data  84 : [8.93677953 6.63654004] ,Predicted fruit is  appale\n",
      "Test data  85 : [3.64257653 6.95263955] ,Predicted fruit is  banana\n",
      "Test data  86 : [8.15698936 7.74495806] ,Predicted fruit is  appale\n",
      "Test data  87 : [3.58656157 5.65425952] ,Predicted fruit is  banana\n",
      "Test data  88 : [6.82957299 5.74549942] ,Predicted fruit is  appale\n",
      "Test data  89 : [5.34656815 7.71741958] ,Predicted fruit is  banana\n",
      "Test data  90 : [7.72989812 5.81291888] ,Predicted fruit is  appale\n",
      "Test data  91 : [4.03967574 5.08220102] ,Predicted fruit is  banana\n",
      "Test data  92 : [4.86622917 7.11569645] ,Predicted fruit is  appale\n",
      "Test data  93 : [9.39204572 4.88195597] ,Predicted fruit is  appale\n",
      "Test data  94 : [6.43854718 5.54933445] ,Predicted fruit is  appale\n",
      "Test data  95 : [5.22239801 6.48774268] ,Predicted fruit is  appale\n",
      "Test data  96 : [3.15806798 5.59831044] ,Predicted fruit is  banana\n",
      "Test data  97 : [7.17892997 6.28479117] ,Predicted fruit is  appale\n",
      "Test data  98 : [6.44646111 4.65461223] ,Predicted fruit is  appale\n",
      "Test data  99 : [5.70418127 5.22665835] ,Predicted fruit is  appale\n",
      "Test data  100 : [2.5447842  8.77874556] ,Predicted fruit is  banana\n",
      "\n",
      "\n",
      "Number of correct prediction 82\n",
      "The accuracy of the model is :  0.82 \n",
      "\n",
      "Accuracy score of sklearn: 0.82\n"
     ]
    }
   ],
   "source": [
    "\n",
    "num=0 #Number of correct prediction\n",
    "y=[]\n",
    "knn=KnearestNeighbors(5)\n",
    "knn.fit(X,Y)\n",
    "#knn_test=KnearestNeighbors(5)\n",
    "#new_fruit=np.array([6,6.5])\n",
    "        \n",
    "fruits={0:'banana',\n",
    "       1:'appale'}\n",
    "\n",
    "\n",
    "for i in range(len(x_test)):\n",
    "   #for j in range(len(x_test[i])):\n",
    "        #rint(x_test[i])\n",
    "        #rint(x_test[i][j])\n",
    "        #nn.predict(x_test[i][j])\n",
    "        y_pred= knn.predict(x_test[i])\n",
    "        s=knn.evaluate(y_pred,i)\n",
    "        print(\"Test data \",i+1,\":\",x_test[i],',Predicted fruit is ' , fruits[y_pred])\n",
    "        y.append(y_pred)\n",
    "        num=num+s\n",
    "\n",
    "#print(\"Y_test \",y_test,\"y_pred\",        \n",
    "sklearn_accuracy=accuracy_score(y_test,y)  \n",
    "\n",
    "        \n",
    "       \n",
    "\n",
    "print(\"\\n\")        \n",
    "print(\"Number of correct prediction\",num)\n",
    "accuracy=(num/(N_test*2))\n",
    "print(\"The accuracy of the model is : \",accuracy,\"\\n\")\n",
    "\n",
    "print(\"Accuracy score of sklearn:\",sklearn_accuracy)\n",
    "\n",
    "       \n",
    "    \n",
    "    \n",
    "\n",
    "    \n"
   ]
  },
  {
   "cell_type": "code",
   "execution_count": null,
   "id": "c8ef3fd6-ec99-49ec-884c-6148eab77730",
   "metadata": {},
   "outputs": [],
   "source": []
  },
  {
   "cell_type": "code",
   "execution_count": null,
   "id": "3a2cebd3-3c37-42b9-bfb3-0d0e39e94c25",
   "metadata": {},
   "outputs": [],
   "source": []
  }
 ],
 "metadata": {
  "kernelspec": {
   "display_name": "Python 3 (ipykernel)",
   "language": "python",
   "name": "python3"
  },
  "language_info": {
   "codemirror_mode": {
    "name": "ipython",
    "version": 3
   },
   "file_extension": ".py",
   "mimetype": "text/x-python",
   "name": "python",
   "nbconvert_exporter": "python",
   "pygments_lexer": "ipython3",
   "version": "3.7.9"
  }
 },
 "nbformat": 4,
 "nbformat_minor": 5
}
