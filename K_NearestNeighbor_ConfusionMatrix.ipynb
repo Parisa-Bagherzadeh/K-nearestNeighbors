{
  "nbformat": 4,
  "nbformat_minor": 5,
  "metadata": {
    "kernelspec": {
      "display_name": "Python 3 (ipykernel)",
      "language": "python",
      "name": "python3"
    },
    "language_info": {
      "codemirror_mode": {
        "name": "ipython",
        "version": 3
      },
      "file_extension": ".py",
      "mimetype": "text/x-python",
      "name": "python",
      "nbconvert_exporter": "python",
      "pygments_lexer": "ipython3",
      "version": "3.7.9"
    },
    "colab": {
      "name": "K_NearestNeighbor.ipynb",
      "provenance": [],
      "collapsed_sections": []
    }
  },
  "cells": [
    {
      "cell_type": "code",
      "metadata": {
        "id": "6e9c19fd-eb35-416e-9030-25d781f50e40"
      },
      "source": [
        "import numpy as np\n",
        "import pandas as pd\n",
        "import matplotlib.pyplot as plt\n",
        "from sklearn.metrics import accuracy_score\n",
        "from sklearn.model_selection import train_test_split"
      ],
      "id": "6e9c19fd-eb35-416e-9030-25d781f50e40",
      "execution_count": 73,
      "outputs": []
    },
    {
      "cell_type": "code",
      "metadata": {
        "colab": {
          "base_uri": "https://localhost:8080/",
          "height": 206
        },
        "id": "46159de5-c0da-4d72-9644-45bb6a839413",
        "outputId": "81f49241-c833-46e2-cbe9-f3cffa2a2dce"
      },
      "source": [
        "data=pd.read_csv('regressionOutliers.csv')\n",
        "data.head()"
      ],
      "id": "46159de5-c0da-4d72-9644-45bb6a839413",
      "execution_count": 74,
      "outputs": [
        {
          "output_type": "execute_result",
          "data": {
            "text/html": [
              "<div>\n",
              "<style scoped>\n",
              "    .dataframe tbody tr th:only-of-type {\n",
              "        vertical-align: middle;\n",
              "    }\n",
              "\n",
              "    .dataframe tbody tr th {\n",
              "        vertical-align: top;\n",
              "    }\n",
              "\n",
              "    .dataframe thead th {\n",
              "        text-align: right;\n",
              "    }\n",
              "</style>\n",
              "<table border=\"1\" class=\"dataframe\">\n",
              "  <thead>\n",
              "    <tr style=\"text-align: right;\">\n",
              "      <th></th>\n",
              "      <th>X</th>\n",
              "      <th>Y</th>\n",
              "    </tr>\n",
              "  </thead>\n",
              "  <tbody>\n",
              "    <tr>\n",
              "      <th>0</th>\n",
              "      <td>0.655210</td>\n",
              "      <td>-5.1815</td>\n",
              "    </tr>\n",
              "    <tr>\n",
              "      <th>1</th>\n",
              "      <td>0.752910</td>\n",
              "      <td>-4.6796</td>\n",
              "    </tr>\n",
              "    <tr>\n",
              "      <th>2</th>\n",
              "      <td>0.810860</td>\n",
              "      <td>-3.6935</td>\n",
              "    </tr>\n",
              "    <tr>\n",
              "      <th>3</th>\n",
              "      <td>0.048427</td>\n",
              "      <td>-1.2416</td>\n",
              "    </tr>\n",
              "    <tr>\n",
              "      <th>4</th>\n",
              "      <td>0.414710</td>\n",
              "      <td>-2.1358</td>\n",
              "    </tr>\n",
              "  </tbody>\n",
              "</table>\n",
              "</div>"
            ],
            "text/plain": [
              "          X       Y\n",
              "0  0.655210 -5.1815\n",
              "1  0.752910 -4.6796\n",
              "2  0.810860 -3.6935\n",
              "3  0.048427 -1.2416\n",
              "4  0.414710 -2.1358"
            ]
          },
          "metadata": {
            "tags": []
          },
          "execution_count": 74
        }
      ]
    },
    {
      "cell_type": "code",
      "metadata": {
        "id": "dcccf4a2-3b34-46c1-a5c6-a6d8e3da1930"
      },
      "source": [
        "X=data['X']\n",
        "Y=data['Y']"
      ],
      "id": "dcccf4a2-3b34-46c1-a5c6-a6d8e3da1930",
      "execution_count": 75,
      "outputs": []
    },
    {
      "cell_type": "code",
      "metadata": {
        "id": "293ebb07-7a5f-4dac-be0f-1dfea2349499"
      },
      "source": [
        "X=np.array(X)\n",
        "Y=np.array(Y)"
      ],
      "id": "293ebb07-7a5f-4dac-be0f-1dfea2349499",
      "execution_count": 76,
      "outputs": []
    },
    {
      "cell_type": "code",
      "metadata": {
        "colab": {
          "base_uri": "https://localhost:8080/",
          "height": 297
        },
        "id": "a1c61df2-610f-4c54-95e1-5210ec04345d",
        "outputId": "9d0df94c-b2f3-4e18-993e-b10e7e80fb09"
      },
      "source": [
        "plt.scatter(X,Y)\n",
        "plt.xlabel('X')\n",
        "plt.ylabel('Y')"
      ],
      "id": "a1c61df2-610f-4c54-95e1-5210ec04345d",
      "execution_count": 77,
      "outputs": [
        {
          "output_type": "execute_result",
          "data": {
            "text/plain": [
              "Text(0, 0.5, 'Y')"
            ]
          },
          "metadata": {
            "tags": []
          },
          "execution_count": 77
        },
        {
          "output_type": "display_data",
          "data": {
            "image/png": "[encoded data removed]",
            "text/plain": [
              "<Figure size 432x288 with 1 Axes>"
            ]
          },
          "metadata": {
            "tags": [],
            "needs_background": "light"
          }
        }
      ]
    },
    {
      "cell_type": "code",
      "metadata": {
        "id": "b404e148-d776-4634-a642-a0b995edac77"
      },
      "source": [
        "\n",
        "N=200\n",
        "std=1.5\n",
        "\n",
        "bananas_width=np.random.normal(4,std,N)\n",
        "bananas_length=np.random.normal(8,std,N)\n",
        "\n",
        "apples_width=np.random.normal(6,std,N)\n",
        "apples_length=np.random.normal(6,std,N)\n",
        "\n",
        "width=np.concatenate((bananas_width,apples_width))\n",
        "length=np.concatenate((bananas_length,apples_length))\n",
        "\n",
        "X=np.array([width,length]).T\n",
        "\n",
        "bananas_label=np.zeros(N, dtype='int')\n",
        "apples_label=np.ones(N, dtype='int')\n",
        "\n",
        "Y=np.concatenate((bananas_label,apples_label))"
      ],
      "id": "b404e148-d776-4634-a642-a0b995edac77",
      "execution_count": 78,
      "outputs": []
    },
    {
      "cell_type": "code",
      "metadata": {
        "colab": {
          "base_uri": "https://localhost:8080/",
          "height": 297
        },
        "id": "f0281e10-e495-4520-b146-728e7cbd5a8b",
        "outputId": "6c7443a1-b101-40ea-af22-1bf8957b909e"
      },
      "source": [
        "#bananas\n",
        "plt.scatter(X[0:N,0],X[0:N,1],c='yellow')\n",
        "\n",
        "#apples\n",
        "plt.scatter(X[N:,0],X[N:,1],c='red')\n",
        "plt.xlabel('Width')\n",
        "plt.ylabel('Length')\n"
      ],
      "id": "f0281e10-e495-4520-b146-728e7cbd5a8b",
      "execution_count": 79,
      "outputs": [
        {
          "output_type": "execute_result",
          "data": {
            "text/plain": [
              "Text(0, 0.5, 'Length')"
            ]
          },
          "metadata": {
            "tags": []
          },
          "execution_count": 79
        },
        {
          "output_type": "display_data",
          "data": {
            "image/png": "[encoded data removed]",
            "text/plain": [
              "<Figure size 432x288 with 1 Axes>"
            ]
          },
          "metadata": {
            "tags": [],
            "needs_background": "light"
          }
        }
      ]
    },
    {
      "cell_type": "code",
      "metadata": {
        "id": "ae15647d-9e49-4413-bc7a-30321a263108"
      },
      "source": [
        "class KnearestNeighbors:\n",
        "   \n",
        "    def __init__(self,k):\n",
        "        self.k=k\n",
        "        \n",
        "    #train    \n",
        "    def fit(self,X_train,y_train):\n",
        "        \n",
        "        self.X_train=X_train\n",
        "        self.y_train=y_train\n",
        "        \n",
        "        #to know the count of classes\n",
        "        self.number_of_classes=len(np.unique(y_train))\n",
        "        \n",
        "    #test    \n",
        "    \n",
        "    def nearNeighbors(self,x_test):\n",
        "        \n",
        "    \n",
        "        distance=np.sqrt(np.sum((x_test-self.X_train)**2,axis=1))\n",
        "        near_neighbors=np.argsort(distance)[0:self.k]\n",
        "        return near_neighbors\n",
        "        \n",
        "    def predict(self,x_test):\n",
        "        \n",
        "        near_neighbors=self.nearNeighbors(x_test)\n",
        "        y_pred=np.argmax(np.bincount(self.y_train[near_neighbors]))\n",
        "        \n",
        "        #0=banana\n",
        "        #1=apple\n",
        "        return y_pred\n",
        "    \n",
        "    def evaluate(self,X_test,y_test):\n",
        "        num_of_correct_pred=0\n",
        "        self.X_test=X_test\n",
        "        self.y_test=y_test\n",
        "        y=[]\n",
        "        \n",
        "        for i in range(len(X_test)):\n",
        "            y.append(self.predict(X_test[i]))\n",
        "\n",
        "        for i in range(len(y)):\n",
        "            if(y_test[i]==y[i]):\n",
        "                num_of_correct_pred +=1\n",
        "\n",
        "        accuracy=(num_of_correct_pred/len(y_test))*100        \n",
        "        return accuracy\n",
        "        \n",
        "                \n",
        "            \n",
        "        \n",
        "            "
      ],
      "id": "ae15647d-9e49-4413-bc7a-30321a263108",
      "execution_count": 80,
      "outputs": []
    },
    {
      "cell_type": "code",
      "metadata": {
        "id": "85ea7396-9b7f-4dd1-93c8-531a37cff21e"
      },
      "source": [
        "X_train,X_test,y_train,y_test=train_test_split(X,Y,test_size=0.2,random_state=42)"
      ],
      "id": "85ea7396-9b7f-4dd1-93c8-531a37cff21e",
      "execution_count": 81,
      "outputs": []
    },
    {
      "cell_type": "code",
      "metadata": {
        "colab": {
          "base_uri": "https://localhost:8080/"
        },
        "id": "abe345d6-090d-4916-9a67-29967f2eef2e",
        "outputId": "377c9ab4-7441-4ced-c011-76634734fe5d"
      },
      "source": [
        "knn=KnearestNeighbors(5)\n",
        "knn.fit(X_train,y_train)\n",
        "accuracy=knn.evaluate(X_test,y_test)\n",
        "\n",
        "print(\"The accuracy of the model:\",accuracy)\n",
        "\n",
        "\n",
        "\n",
        "\n"
      ],
      "id": "abe345d6-090d-4916-9a67-29967f2eef2e",
      "execution_count": 82,
      "outputs": [
        {
          "output_type": "stream",
          "text": [
            "The accuracy of the model: 80.0\n"
          ],
          "name": "stdout"
        }
      ]
    },
    {
      "cell_type": "code",
      "metadata": {
        "colab": {
          "base_uri": "https://localhost:8080/",
          "height": 440
        },
        "id": "8kxF5aS8NSE5",
        "outputId": "c3d46ee9-df2f-4a3f-e44e-d5f8b6364f2c"
      },
      "source": [
        "banana_banana=0\n",
        "banana_apple=0\n",
        "apple_banana=0\n",
        "apple_apple=0\n",
        "\n",
        "for i in range(len(y_test)):\n",
        "  if y_test[i]==0 and y[i]==0:\n",
        "    banana_banana +=1\n",
        "  if y_test[i]==0 and y[i]==1:\n",
        "    banana_apple +=1\n",
        "  if y_test[i]==1 and y[i]==0:\n",
        "    apple_banana +=1  \n",
        "  if y_test[i]==1 and y[i]==1:\n",
        "    apple_apple +=1\n",
        "    \n",
        "conf_mat=np.array([[banana_banana,banana_apple],[apple_banana,apple_apple]])\n",
        "print(conf_mat)\n",
        "\n",
        "fig,ax=plt.subplots(figsize=(6,6))\n",
        "ax.matshow(conf_mat,cmap=plt.cm.Blues,alpha=0.5)\n",
        "for i in range(conf_mat.shape[0]):\n",
        "  for j in range(conf_mat.shape[1]):\n",
        "    ax.text(x=j,y=i,s=conf_mat[i,j],va='center',ha='center')\n",
        "\n",
        "plt.xlabel('Predictions')\n",
        "plt.ylabel('Actuals')\n",
        "plt.title('Confusion Matrix')\n",
        "plt.show()"
      ],
      "id": "8kxF5aS8NSE5",
      "execution_count": 91,
      "outputs": [
        {
          "output_type": "stream",
          "text": [
            "[[32 12]\n",
            " [ 4 32]]\n"
          ],
          "name": "stdout"
        },
        {
          "output_type": "display_data",
          "data": {
            "image/png": "[encoded data removed]",
            "text/plain": [
              "<Figure size 432x432 with 1 Axes>"
            ]
          },
          "metadata": {
            "tags": [],
            "needs_background": "light"
          }
        }
      ]
    },
    {
      "cell_type": "code",
      "metadata": {
        "colab": {
          "base_uri": "https://localhost:8080/"
        },
        "id": "078b349d-383a-4fb5-8072-d4e13a13d3f9",
        "outputId": "d36871a1-c4e6-479e-8be8-5782022fc6c6"
      },
      "source": [
        "#knn in scikitlean\n",
        "import sklearn\n",
        "from sklearn.neighbors import KNeighborsClassifier\n",
        "\n",
        "label=0\n",
        "\n",
        "KNN=KNeighborsClassifier(5)\n",
        "KNN.fit(X,Y)\n",
        "y=KNN.predict(X_test)\n",
        "for i in range(len(y)):\n",
        "    if (y[i]==y_test[i]):\n",
        "        label=label+1\n",
        "        \n",
        "accuracy=(label/len(y_test))*100\n",
        "\n",
        "print(\"The accuracy of sklearn :\",accuracy)\n",
        "        \n",
        "        \n",
        "        \n",
        "\n",
        "            "
      ],
      "id": "078b349d-383a-4fb5-8072-d4e13a13d3f9",
      "execution_count": 83,
      "outputs": [
        {
          "output_type": "stream",
          "text": [
            "The accuracy of sklearn : 80.0\n"
          ],
          "name": "stdout"
        }
      ]
    },
    {
      "cell_type": "code",
      "metadata": {
        "id": "7fc9ef3d-62c8-46b6-aec9-2bb4359bd21d"
      },
      "source": [
        ""
      ],
      "id": "7fc9ef3d-62c8-46b6-aec9-2bb4359bd21d",
      "execution_count": 83,
      "outputs": []
    },
    {
      "cell_type": "code",
      "metadata": {
        "id": "3824e073-58f0-46f6-b13d-b915049d45d7"
      },
      "source": [
        ""
      ],
      "id": "3824e073-58f0-46f6-b13d-b915049d45d7",
      "execution_count": 83,
      "outputs": []
    }
  ]
}